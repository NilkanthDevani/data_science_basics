{
 "cells": [
  {
   "cell_type": "code",
   "execution_count": 39,
   "metadata": {},
   "outputs": [],
   "source": [
    "from scipy import stats\n",
    "import pandas as pd\n",
    "import numpy as np\n",
    "from sklearn import preprocessing\n",
    "import seaborn as sns\n"
   ]
  },
  {
   "cell_type": "code",
   "execution_count": 6,
   "metadata": {},
   "outputs": [],
   "source": [
    "glaxo_of_ci = stats.norm.interval(0.95, loc=1990, scale=125)"
   ]
  },
  {
   "cell_type": "code",
   "execution_count": 7,
   "metadata": {},
   "outputs": [
    {
     "data": {
      "text/plain": [
       "(1745.0045019324932, 2234.9954980675066)"
      ]
     },
     "execution_count": 7,
     "metadata": {},
     "output_type": "execute_result"
    }
   ],
   "source": [
    "glaxo_of_ci"
   ]
  },
  {
   "cell_type": "code",
   "execution_count": 49,
   "metadata": {},
   "outputs": [
    {
     "data": {
      "text/html": [
       "<div>\n",
       "<style scoped>\n",
       "    .dataframe tbody tr th:only-of-type {\n",
       "        vertical-align: middle;\n",
       "    }\n",
       "\n",
       "    .dataframe tbody tr th {\n",
       "        vertical-align: top;\n",
       "    }\n",
       "\n",
       "    .dataframe thead th {\n",
       "        text-align: right;\n",
       "    }\n",
       "</style>\n",
       "<table border=\"1\" class=\"dataframe\">\n",
       "  <thead>\n",
       "    <tr style=\"text-align: right;\">\n",
       "      <th></th>\n",
       "      <th>normal</th>\n",
       "    </tr>\n",
       "  </thead>\n",
       "  <tbody>\n",
       "    <tr>\n",
       "      <th>0</th>\n",
       "      <td>567.45</td>\n",
       "    </tr>\n",
       "    <tr>\n",
       "      <th>1</th>\n",
       "      <td>572.45</td>\n",
       "    </tr>\n",
       "    <tr>\n",
       "      <th>2</th>\n",
       "      <td>572.45</td>\n",
       "    </tr>\n",
       "    <tr>\n",
       "      <th>3</th>\n",
       "      <td>589.12</td>\n",
       "    </tr>\n",
       "    <tr>\n",
       "      <th>4</th>\n",
       "      <td>613.87</td>\n",
       "    </tr>\n",
       "    <tr>\n",
       "      <th>...</th>\n",
       "      <td>...</td>\n",
       "    </tr>\n",
       "    <tr>\n",
       "      <th>75</th>\n",
       "      <td>842.87</td>\n",
       "    </tr>\n",
       "    <tr>\n",
       "      <th>76</th>\n",
       "      <td>849.62</td>\n",
       "    </tr>\n",
       "    <tr>\n",
       "      <th>77</th>\n",
       "      <td>874.70</td>\n",
       "    </tr>\n",
       "    <tr>\n",
       "      <th>78</th>\n",
       "      <td>878.78</td>\n",
       "    </tr>\n",
       "    <tr>\n",
       "      <th>79</th>\n",
       "      <td>897.45</td>\n",
       "    </tr>\n",
       "  </tbody>\n",
       "</table>\n",
       "<p>80 rows × 1 columns</p>\n",
       "</div>"
      ],
      "text/plain": [
       "    normal\n",
       "0   567.45\n",
       "1   572.45\n",
       "2   572.45\n",
       "3   589.12\n",
       "4   613.87\n",
       "..     ...\n",
       "75  842.87\n",
       "76  849.62\n",
       "77  874.70\n",
       "78  878.78\n",
       "79  897.45\n",
       "\n",
       "[80 rows x 1 columns]"
      ]
     },
     "execution_count": 49,
     "metadata": {},
     "output_type": "execute_result"
    }
   ],
   "source": [
    "ndist = pd.read_csv('D:\\Jupyter\\classroom\\zdist.csv', header=None)\n",
    "ndist.rename({0:\"normal\"}, axis=1, inplace=True)\n",
    "ndist"
   ]
  },
  {
   "cell_type": "code",
   "execution_count": 27,
   "metadata": {},
   "outputs": [],
   "source": [
    "sns.set_palette('pastel')\n"
   ]
  },
  {
   "cell_type": "code",
   "execution_count": 37,
   "metadata": {},
   "outputs": [
    {
     "name": "stderr",
     "output_type": "stream",
     "text": [
      "C:\\Users\\Nilkanth\\anaconda3\\lib\\site-packages\\seaborn\\distributions.py:2551: FutureWarning: `distplot` is a deprecated function and will be removed in a future version. Please adapt your code to use either `displot` (a figure-level function with similar flexibility) or `histplot` (an axes-level function for histograms).\n",
      "  warnings.warn(msg, FutureWarning)\n"
     ]
    },
    {
     "data": {
      "text/plain": [
       "<AxesSubplot:ylabel='Density'>"
      ]
     },
     "execution_count": 37,
     "metadata": {},
     "output_type": "execute_result"
    },
    {
     "data": {
      "image/png": "[encoded data removed]",
      "text/plain": [
       "<Figure size 432x288 with 1 Axes>"
      ]
     },
     "metadata": {
      "needs_background": "light"
     },
     "output_type": "display_data"
    }
   ],
   "source": [
    "sns.distplot(ndist)"
   ]
  },
  {
   "cell_type": "code",
   "execution_count": 67,
   "metadata": {},
   "outputs": [
    {
     "data": {
      "text/plain": [
       "array([[-2.38914366],\n",
       "       [-2.32110674],\n",
       "       [-2.32110674],\n",
       "       [-2.09427165],\n",
       "       [-1.7574889 ],\n",
       "       [-1.73149879],\n",
       "       [-1.55909324],\n",
       "       [-1.33565999],\n",
       "       [-1.25973079],\n",
       "       [-1.23591787],\n",
       "       [-1.17237138],\n",
       "       [-1.11004956],\n",
       "       [-1.04201264],\n",
       "       [-1.02500341],\n",
       "       [-1.00799418],\n",
       "       [-0.92185944],\n",
       "       [-0.91505575],\n",
       "       [-0.78238376],\n",
       "       [-0.66331915],\n",
       "       [-0.61787049],\n",
       "       [-0.50683423],\n",
       "       [-0.50560957],\n",
       "       [-0.47499295],\n",
       "       [-0.43539547],\n",
       "       [-0.39457331],\n",
       "       [-0.36735855],\n",
       "       [-0.2823124 ],\n",
       "       [-0.20284527],\n",
       "       [-0.19495299],\n",
       "       [-0.19046255],\n",
       "       [-0.17563051],\n",
       "       [-0.15072899],\n",
       "       [-0.10881825],\n",
       "       [-0.08269207],\n",
       "       [-0.07697697],\n",
       "       [-0.06459425],\n",
       "       [-0.04418318],\n",
       "       [-0.03275297],\n",
       "       [ 0.00806918],\n",
       "       [ 0.05678361],\n",
       "       [ 0.070391  ],\n",
       "       [ 0.07147959],\n",
       "       [ 0.07488143],\n",
       "       [ 0.09529251],\n",
       "       [ 0.12373194],\n",
       "       [ 0.15883899],\n",
       "       [ 0.16332943],\n",
       "       [ 0.20877809],\n",
       "       [ 0.23817004],\n",
       "       [ 0.28579589],\n",
       "       [ 0.35723465],\n",
       "       [ 0.44119221],\n",
       "       [ 0.51943467],\n",
       "       [ 0.52623836],\n",
       "       [ 0.57957931],\n",
       "       [ 0.67700818],\n",
       "       [ 0.68503653],\n",
       "       [ 0.71102664],\n",
       "       [ 0.74286791],\n",
       "       [ 0.76096574],\n",
       "       [ 0.77117127],\n",
       "       [ 0.77457312],\n",
       "       [ 0.92316575],\n",
       "       [ 0.93214663],\n",
       "       [ 0.96058606],\n",
       "       [ 0.96616509],\n",
       "       [ 0.97637062],\n",
       "       [ 1.01841744],\n",
       "       [ 1.03202482],\n",
       "       [ 1.05692634],\n",
       "       [ 1.06264144],\n",
       "       [ 1.12387467],\n",
       "       [ 1.16469682],\n",
       "       [ 1.33927956],\n",
       "       [ 1.34717184],\n",
       "       [ 1.35860204],\n",
       "       [ 1.45045188],\n",
       "       [ 1.79172507],\n",
       "       [ 1.8472432 ],\n",
       "       [ 2.10129306]])"
      ]
     },
     "execution_count": 67,
     "metadata": {},
     "output_type": "execute_result"
    }
   ],
   "source": [
    "zscaler = preprocessing.StandardScaler()\n",
    "zdist = zscaler.fit_transform(ndist)\n",
    "type(zdist)\n",
    "zdist"
   ]
  },
  {
   "cell_type": "code",
   "execution_count": 72,
   "metadata": {},
   "outputs": [],
   "source": [
    "ndist['Z-scores'] = zdist"
   ]
  },
  {
   "cell_type": "code",
   "execution_count": 73,
   "metadata": {},
   "outputs": [
    {
     "data": {
      "text/html": [
       "<div>\n",
       "<style scoped>\n",
       "    .dataframe tbody tr th:only-of-type {\n",
       "        vertical-align: middle;\n",
       "    }\n",
       "\n",
       "    .dataframe tbody tr th {\n",
       "        vertical-align: top;\n",
       "    }\n",
       "\n",
       "    .dataframe thead th {\n",
       "        text-align: right;\n",
       "    }\n",
       "</style>\n",
       "<table border=\"1\" class=\"dataframe\">\n",
       "  <thead>\n",
       "    <tr style=\"text-align: right;\">\n",
       "      <th></th>\n",
       "      <th>normal</th>\n",
       "      <th>Z-scores</th>\n",
       "    </tr>\n",
       "  </thead>\n",
       "  <tbody>\n",
       "    <tr>\n",
       "      <th>0</th>\n",
       "      <td>567.45</td>\n",
       "      <td>-2.389144</td>\n",
       "    </tr>\n",
       "    <tr>\n",
       "      <th>1</th>\n",
       "      <td>572.45</td>\n",
       "      <td>-2.321107</td>\n",
       "    </tr>\n",
       "    <tr>\n",
       "      <th>2</th>\n",
       "      <td>572.45</td>\n",
       "      <td>-2.321107</td>\n",
       "    </tr>\n",
       "    <tr>\n",
       "      <th>3</th>\n",
       "      <td>589.12</td>\n",
       "      <td>-2.094272</td>\n",
       "    </tr>\n",
       "    <tr>\n",
       "      <th>4</th>\n",
       "      <td>613.87</td>\n",
       "      <td>-1.757489</td>\n",
       "    </tr>\n",
       "    <tr>\n",
       "      <th>...</th>\n",
       "      <td>...</td>\n",
       "      <td>...</td>\n",
       "    </tr>\n",
       "    <tr>\n",
       "      <th>75</th>\n",
       "      <td>842.87</td>\n",
       "      <td>1.358602</td>\n",
       "    </tr>\n",
       "    <tr>\n",
       "      <th>76</th>\n",
       "      <td>849.62</td>\n",
       "      <td>1.450452</td>\n",
       "    </tr>\n",
       "    <tr>\n",
       "      <th>77</th>\n",
       "      <td>874.70</td>\n",
       "      <td>1.791725</td>\n",
       "    </tr>\n",
       "    <tr>\n",
       "      <th>78</th>\n",
       "      <td>878.78</td>\n",
       "      <td>1.847243</td>\n",
       "    </tr>\n",
       "    <tr>\n",
       "      <th>79</th>\n",
       "      <td>897.45</td>\n",
       "      <td>2.101293</td>\n",
       "    </tr>\n",
       "  </tbody>\n",
       "</table>\n",
       "<p>80 rows × 2 columns</p>\n",
       "</div>"
      ],
      "text/plain": [
       "    normal  Z-scores\n",
       "0   567.45 -2.389144\n",
       "1   572.45 -2.321107\n",
       "2   572.45 -2.321107\n",
       "3   589.12 -2.094272\n",
       "4   613.87 -1.757489\n",
       "..     ...       ...\n",
       "75  842.87  1.358602\n",
       "76  849.62  1.450452\n",
       "77  874.70  1.791725\n",
       "78  878.78  1.847243\n",
       "79  897.45  2.101293\n",
       "\n",
       "[80 rows x 2 columns]"
      ]
     },
     "execution_count": 73,
     "metadata": {},
     "output_type": "execute_result"
    }
   ],
   "source": [
    "ndist"
   ]
  },
  {
   "cell_type": "code",
   "execution_count": 50,
   "metadata": {},
   "outputs": [
    {
     "data": {
      "text/plain": [
       "743.0269999999998"
      ]
     },
     "execution_count": 50,
     "metadata": {},
     "output_type": "execute_result"
    }
   ],
   "source": [
    "ndist['normal'].mean()"
   ]
  },
  {
   "cell_type": "code",
   "execution_count": 51,
   "metadata": {},
   "outputs": [
    {
     "data": {
      "text/plain": [
       "73.95317208728879"
      ]
     },
     "execution_count": 51,
     "metadata": {},
     "output_type": "execute_result"
    }
   ],
   "source": [
    "ndist['normal'].std()"
   ]
  },
  {
   "cell_type": "code",
   "execution_count": 52,
   "metadata": {},
   "outputs": [
    {
     "data": {
      "text/plain": [
       "1.780933062880325"
      ]
     },
     "execution_count": 52,
     "metadata": {},
     "output_type": "execute_result"
    }
   ],
   "source": [
    "(874.70 - 743)/73.95"
   ]
  },
  {
   "cell_type": "code",
   "execution_count": 55,
   "metadata": {},
   "outputs": [
    {
     "name": "stderr",
     "output_type": "stream",
     "text": [
      "C:\\Users\\Nilkanth\\anaconda3\\lib\\site-packages\\seaborn\\distributions.py:2551: FutureWarning: `distplot` is a deprecated function and will be removed in a future version. Please adapt your code to use either `displot` (a figure-level function with similar flexibility) or `histplot` (an axes-level function for histograms).\n",
      "  warnings.warn(msg, FutureWarning)\n"
     ]
    },
    {
     "data": {
      "text/plain": [
       "<AxesSubplot:xlabel='normal', ylabel='Density'>"
      ]
     },
     "execution_count": 55,
     "metadata": {},
     "output_type": "execute_result"
    },
    {
     "data": {
      "image/png": "[encoded data removed]",
      "text/plain": [
       "<Figure size 432x288 with 1 Axes>"
      ]
     },
     "metadata": {
      "needs_background": "light"
     },
     "output_type": "display_data"
    }
   ],
   "source": [
    "sns.distplot(ndist['normal'], bins=20)"
   ]
  },
  {
   "cell_type": "code",
   "execution_count": 74,
   "metadata": {},
   "outputs": [
    {
     "name": "stderr",
     "output_type": "stream",
     "text": [
      "C:\\Users\\Nilkanth\\anaconda3\\lib\\site-packages\\seaborn\\distributions.py:2551: FutureWarning: `distplot` is a deprecated function and will be removed in a future version. Please adapt your code to use either `displot` (a figure-level function with similar flexibility) or `histplot` (an axes-level function for histograms).\n",
      "  warnings.warn(msg, FutureWarning)\n"
     ]
    },
    {
     "data": {
      "text/plain": [
       "<AxesSubplot:xlabel='Z-scores', ylabel='Density'>"
      ]
     },
     "execution_count": 74,
     "metadata": {},
     "output_type": "execute_result"
    },
    {
     "data": {
      "image/png": "[encoded data removed]",
      "text/plain": [
       "<Figure size 432x288 with 1 Axes>"
      ]
     },
     "metadata": {
      "needs_background": "light"
     },
     "output_type": "display_data"
    }
   ],
   "source": [
    "sns.distplot(ndist['Z-scores'])"
   ]
  },
  {
   "cell_type": "code",
   "execution_count": null,
   "metadata": {},
   "outputs": [],
   "source": []
  }
 ],
 "metadata": {
  "kernelspec": {
   "display_name": "Python 3",
   "language": "python",
   "name": "python3"
  },
  "language_info": {
   "codemirror_mode": {
    "name": "ipython",
    "version": 3
   },
   "file_extension": ".py",
   "mimetype": "text/x-python",
   "name": "python",
   "nbconvert_exporter": "python",
   "pygments_lexer": "ipython3",
   "version": "3.8.5"
  }
 },
 "nbformat": 4,
 "nbformat_minor": 4
}
